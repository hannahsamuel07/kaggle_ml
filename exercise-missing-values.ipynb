{
 "cells": [
  {
   "cell_type": "code",
   "execution_count": 1,
   "id": "6679705a",
   "metadata": {
    "execution": {
     "iopub.execute_input": "2025-09-09T00:44:38.068023Z",
     "iopub.status.busy": "2025-09-09T00:44:38.067671Z",
     "iopub.status.idle": "2025-09-09T00:44:39.969183Z",
     "shell.execute_reply": "2025-09-09T00:44:39.968121Z"
    },
    "papermill": {
     "duration": 1.908332,
     "end_time": "2025-09-09T00:44:39.970739",
     "exception": false,
     "start_time": "2025-09-09T00:44:38.062407",
     "status": "completed"
    },
    "tags": []
   },
   "outputs": [
    {
     "name": "stdout",
     "output_type": "stream",
     "text": [
      "Setup Complete\n"
     ]
    }
   ],
   "source": [
    "# Set up code checking\n",
    "import os\n",
    "if not os.path.exists(\"../input/train.csv\"):\n",
    "    os.symlink(\"../input/home-data-for-ml-course/train.csv\", \"../input/train.csv\")  \n",
    "    os.symlink(\"../input/home-data-for-ml-course/test.csv\", \"../input/test.csv\") \n",
    "from learntools.core import binder\n",
    "binder.bind(globals())\n",
    "from learntools.ml_intermediate.ex2 import *\n",
    "print(\"Setup Complete\")"
   ]
  },
  {
   "cell_type": "code",
   "execution_count": 2,
   "id": "08ef5833",
   "metadata": {
    "execution": {
     "iopub.execute_input": "2025-09-09T00:44:39.979409Z",
     "iopub.status.busy": "2025-09-09T00:44:39.978320Z",
     "iopub.status.idle": "2025-09-09T00:44:41.685998Z",
     "shell.execute_reply": "2025-09-09T00:44:41.684843Z"
    },
    "papermill": {
     "duration": 1.713436,
     "end_time": "2025-09-09T00:44:41.687691",
     "exception": false,
     "start_time": "2025-09-09T00:44:39.974255",
     "status": "completed"
    },
    "tags": []
   },
   "outputs": [],
   "source": [
    "import pandas as pd\n",
    "from sklearn.model_selection import train_test_split\n",
    "\n",
    "# Read the data\n",
    "X_full = pd.read_csv('../input/train.csv', index_col='Id')\n",
    "X_test_full = pd.read_csv('../input/test.csv', index_col='Id')\n",
    "\n",
    "# Remove rows with missing target, separate target from predictors\n",
    "X_full.dropna(axis=0, subset=['SalePrice'], inplace=True)\n",
    "y = X_full.SalePrice\n",
    "X_full.drop(['SalePrice'], axis=1, inplace=True)\n",
    "\n",
    "# using only numerical predictors\n",
    "X = X_full.select_dtypes(exclude=['object'])\n",
    "X_test = X_test_full.select_dtypes(exclude=['object'])\n",
    "\n",
    "# Break off validation set from training data\n",
    "X_train, X_valid, y_train, y_valid = train_test_split(X, y, train_size=0.8, test_size=0.2,\n",
    "                                                      random_state=0)"
   ]
  },
  {
   "cell_type": "code",
   "execution_count": 3,
   "id": "87c3355c",
   "metadata": {
    "execution": {
     "iopub.execute_input": "2025-09-09T00:44:41.695477Z",
     "iopub.status.busy": "2025-09-09T00:44:41.695169Z",
     "iopub.status.idle": "2025-09-09T00:44:41.724912Z",
     "shell.execute_reply": "2025-09-09T00:44:41.723723Z"
    },
    "papermill": {
     "duration": 0.035271,
     "end_time": "2025-09-09T00:44:41.726363",
     "exception": false,
     "start_time": "2025-09-09T00:44:41.691092",
     "status": "completed"
    },
    "tags": []
   },
   "outputs": [
    {
     "name": "stderr",
     "output_type": "stream",
     "text": [
      "/usr/local/lib/python3.11/dist-packages/pandas/io/formats/format.py:1458: RuntimeWarning: invalid value encountered in greater\n",
      "  has_large_values = (abs_vals > 1e6).any()\n",
      "/usr/local/lib/python3.11/dist-packages/pandas/io/formats/format.py:1459: RuntimeWarning: invalid value encountered in less\n",
      "  has_small_values = ((abs_vals < 10 ** (-self.digits)) & (abs_vals > 0)).any()\n",
      "/usr/local/lib/python3.11/dist-packages/pandas/io/formats/format.py:1459: RuntimeWarning: invalid value encountered in greater\n",
      "  has_small_values = ((abs_vals < 10 ** (-self.digits)) & (abs_vals > 0)).any()\n",
      "/usr/local/lib/python3.11/dist-packages/pandas/io/formats/format.py:1458: RuntimeWarning: invalid value encountered in greater\n",
      "  has_large_values = (abs_vals > 1e6).any()\n",
      "/usr/local/lib/python3.11/dist-packages/pandas/io/formats/format.py:1459: RuntimeWarning: invalid value encountered in less\n",
      "  has_small_values = ((abs_vals < 10 ** (-self.digits)) & (abs_vals > 0)).any()\n",
      "/usr/local/lib/python3.11/dist-packages/pandas/io/formats/format.py:1459: RuntimeWarning: invalid value encountered in greater\n",
      "  has_small_values = ((abs_vals < 10 ** (-self.digits)) & (abs_vals > 0)).any()\n"
     ]
    },
    {
     "data": {
      "text/html": [
       "<div>\n",
       "<style scoped>\n",
       "    .dataframe tbody tr th:only-of-type {\n",
       "        vertical-align: middle;\n",
       "    }\n",
       "\n",
       "    .dataframe tbody tr th {\n",
       "        vertical-align: top;\n",
       "    }\n",
       "\n",
       "    .dataframe thead th {\n",
       "        text-align: right;\n",
       "    }\n",
       "</style>\n",
       "<table border=\"1\" class=\"dataframe\">\n",
       "  <thead>\n",
       "    <tr style=\"text-align: right;\">\n",
       "      <th></th>\n",
       "      <th>MSSubClass</th>\n",
       "      <th>LotFrontage</th>\n",
       "      <th>LotArea</th>\n",
       "      <th>OverallQual</th>\n",
       "      <th>OverallCond</th>\n",
       "      <th>YearBuilt</th>\n",
       "      <th>YearRemodAdd</th>\n",
       "      <th>MasVnrArea</th>\n",
       "      <th>BsmtFinSF1</th>\n",
       "      <th>BsmtFinSF2</th>\n",
       "      <th>...</th>\n",
       "      <th>GarageArea</th>\n",
       "      <th>WoodDeckSF</th>\n",
       "      <th>OpenPorchSF</th>\n",
       "      <th>EnclosedPorch</th>\n",
       "      <th>3SsnPorch</th>\n",
       "      <th>ScreenPorch</th>\n",
       "      <th>PoolArea</th>\n",
       "      <th>MiscVal</th>\n",
       "      <th>MoSold</th>\n",
       "      <th>YrSold</th>\n",
       "    </tr>\n",
       "    <tr>\n",
       "      <th>Id</th>\n",
       "      <th></th>\n",
       "      <th></th>\n",
       "      <th></th>\n",
       "      <th></th>\n",
       "      <th></th>\n",
       "      <th></th>\n",
       "      <th></th>\n",
       "      <th></th>\n",
       "      <th></th>\n",
       "      <th></th>\n",
       "      <th></th>\n",
       "      <th></th>\n",
       "      <th></th>\n",
       "      <th></th>\n",
       "      <th></th>\n",
       "      <th></th>\n",
       "      <th></th>\n",
       "      <th></th>\n",
       "      <th></th>\n",
       "      <th></th>\n",
       "      <th></th>\n",
       "    </tr>\n",
       "  </thead>\n",
       "  <tbody>\n",
       "    <tr>\n",
       "      <th>619</th>\n",
       "      <td>20</td>\n",
       "      <td>90.0</td>\n",
       "      <td>11694</td>\n",
       "      <td>9</td>\n",
       "      <td>5</td>\n",
       "      <td>2007</td>\n",
       "      <td>2007</td>\n",
       "      <td>452.0</td>\n",
       "      <td>48</td>\n",
       "      <td>0</td>\n",
       "      <td>...</td>\n",
       "      <td>774</td>\n",
       "      <td>0</td>\n",
       "      <td>108</td>\n",
       "      <td>0</td>\n",
       "      <td>0</td>\n",
       "      <td>260</td>\n",
       "      <td>0</td>\n",
       "      <td>0</td>\n",
       "      <td>7</td>\n",
       "      <td>2007</td>\n",
       "    </tr>\n",
       "    <tr>\n",
       "      <th>871</th>\n",
       "      <td>20</td>\n",
       "      <td>60.0</td>\n",
       "      <td>6600</td>\n",
       "      <td>5</td>\n",
       "      <td>5</td>\n",
       "      <td>1962</td>\n",
       "      <td>1962</td>\n",
       "      <td>0.0</td>\n",
       "      <td>0</td>\n",
       "      <td>0</td>\n",
       "      <td>...</td>\n",
       "      <td>308</td>\n",
       "      <td>0</td>\n",
       "      <td>0</td>\n",
       "      <td>0</td>\n",
       "      <td>0</td>\n",
       "      <td>0</td>\n",
       "      <td>0</td>\n",
       "      <td>0</td>\n",
       "      <td>8</td>\n",
       "      <td>2009</td>\n",
       "    </tr>\n",
       "    <tr>\n",
       "      <th>93</th>\n",
       "      <td>30</td>\n",
       "      <td>80.0</td>\n",
       "      <td>13360</td>\n",
       "      <td>5</td>\n",
       "      <td>7</td>\n",
       "      <td>1921</td>\n",
       "      <td>2006</td>\n",
       "      <td>0.0</td>\n",
       "      <td>713</td>\n",
       "      <td>0</td>\n",
       "      <td>...</td>\n",
       "      <td>432</td>\n",
       "      <td>0</td>\n",
       "      <td>0</td>\n",
       "      <td>44</td>\n",
       "      <td>0</td>\n",
       "      <td>0</td>\n",
       "      <td>0</td>\n",
       "      <td>0</td>\n",
       "      <td>8</td>\n",
       "      <td>2009</td>\n",
       "    </tr>\n",
       "    <tr>\n",
       "      <th>818</th>\n",
       "      <td>20</td>\n",
       "      <td>NaN</td>\n",
       "      <td>13265</td>\n",
       "      <td>8</td>\n",
       "      <td>5</td>\n",
       "      <td>2002</td>\n",
       "      <td>2002</td>\n",
       "      <td>148.0</td>\n",
       "      <td>1218</td>\n",
       "      <td>0</td>\n",
       "      <td>...</td>\n",
       "      <td>857</td>\n",
       "      <td>150</td>\n",
       "      <td>59</td>\n",
       "      <td>0</td>\n",
       "      <td>0</td>\n",
       "      <td>0</td>\n",
       "      <td>0</td>\n",
       "      <td>0</td>\n",
       "      <td>7</td>\n",
       "      <td>2008</td>\n",
       "    </tr>\n",
       "    <tr>\n",
       "      <th>303</th>\n",
       "      <td>20</td>\n",
       "      <td>118.0</td>\n",
       "      <td>13704</td>\n",
       "      <td>7</td>\n",
       "      <td>5</td>\n",
       "      <td>2001</td>\n",
       "      <td>2002</td>\n",
       "      <td>150.0</td>\n",
       "      <td>0</td>\n",
       "      <td>0</td>\n",
       "      <td>...</td>\n",
       "      <td>843</td>\n",
       "      <td>468</td>\n",
       "      <td>81</td>\n",
       "      <td>0</td>\n",
       "      <td>0</td>\n",
       "      <td>0</td>\n",
       "      <td>0</td>\n",
       "      <td>0</td>\n",
       "      <td>1</td>\n",
       "      <td>2006</td>\n",
       "    </tr>\n",
       "  </tbody>\n",
       "</table>\n",
       "<p>5 rows × 36 columns</p>\n",
       "</div>"
      ],
      "text/plain": [
       "     MSSubClass  LotFrontage  LotArea  OverallQual  OverallCond  YearBuilt  \\\n",
       "Id                                                                           \n",
       "619          20         90.0    11694            9            5       2007   \n",
       "871          20         60.0     6600            5            5       1962   \n",
       "93           30         80.0    13360            5            7       1921   \n",
       "818          20          NaN    13265            8            5       2002   \n",
       "303          20        118.0    13704            7            5       2001   \n",
       "\n",
       "     YearRemodAdd  MasVnrArea  BsmtFinSF1  BsmtFinSF2  ...  GarageArea  \\\n",
       "Id                                                     ...               \n",
       "619          2007       452.0          48           0  ...         774   \n",
       "871          1962         0.0           0           0  ...         308   \n",
       "93           2006         0.0         713           0  ...         432   \n",
       "818          2002       148.0        1218           0  ...         857   \n",
       "303          2002       150.0           0           0  ...         843   \n",
       "\n",
       "     WoodDeckSF  OpenPorchSF  EnclosedPorch  3SsnPorch  ScreenPorch  PoolArea  \\\n",
       "Id                                                                              \n",
       "619           0          108              0          0          260         0   \n",
       "871           0            0              0          0            0         0   \n",
       "93            0            0             44          0            0         0   \n",
       "818         150           59              0          0            0         0   \n",
       "303         468           81              0          0            0         0   \n",
       "\n",
       "     MiscVal  MoSold  YrSold  \n",
       "Id                            \n",
       "619        0       7    2007  \n",
       "871        0       8    2009  \n",
       "93         0       8    2009  \n",
       "818        0       7    2008  \n",
       "303        0       1    2006  \n",
       "\n",
       "[5 rows x 36 columns]"
      ]
     },
     "execution_count": 3,
     "metadata": {},
     "output_type": "execute_result"
    }
   ],
   "source": [
    "X_train.head()"
   ]
  },
  {
   "cell_type": "code",
   "execution_count": 4,
   "id": "b1dc056b",
   "metadata": {
    "execution": {
     "iopub.execute_input": "2025-09-09T00:44:41.734795Z",
     "iopub.status.busy": "2025-09-09T00:44:41.734451Z",
     "iopub.status.idle": "2025-09-09T00:44:41.741535Z",
     "shell.execute_reply": "2025-09-09T00:44:41.740701Z"
    },
    "papermill": {
     "duration": 0.012952,
     "end_time": "2025-09-09T00:44:41.743019",
     "exception": false,
     "start_time": "2025-09-09T00:44:41.730067",
     "status": "completed"
    },
    "tags": []
   },
   "outputs": [
    {
     "name": "stdout",
     "output_type": "stream",
     "text": [
      "(1168, 36)\n",
      "LotFrontage    212\n",
      "MasVnrArea       6\n",
      "GarageYrBlt     58\n",
      "dtype: int64\n"
     ]
    }
   ],
   "source": [
    "# Shape of training data (num_rows, num_columns)\n",
    "print(X_train.shape)\n",
    "\n",
    "# Number of missing values in each column of training data\n",
    "missing_val_count_by_column = (X_train.isnull().sum())\n",
    "print(missing_val_count_by_column[missing_val_count_by_column > 0])"
   ]
  },
  {
   "cell_type": "code",
   "execution_count": 5,
   "id": "5722192a",
   "metadata": {
    "execution": {
     "iopub.execute_input": "2025-09-09T00:44:41.751613Z",
     "iopub.status.busy": "2025-09-09T00:44:41.751290Z",
     "iopub.status.idle": "2025-09-09T00:44:41.755977Z",
     "shell.execute_reply": "2025-09-09T00:44:41.754887Z"
    },
    "papermill": {
     "duration": 0.010783,
     "end_time": "2025-09-09T00:44:41.757583",
     "exception": false,
     "start_time": "2025-09-09T00:44:41.746800",
     "status": "completed"
    },
    "tags": []
   },
   "outputs": [],
   "source": [
    "# rows are in the training data\n",
    "num_rows = 1168\n",
    "\n",
    "# columns in the training data have missing values\n",
    "num_cols_with_missing = 3\n",
    "\n",
    "# missing entries in all of the training data?\n",
    "tot_missing = 276"
   ]
  },
  {
   "cell_type": "code",
   "execution_count": 6,
   "id": "549755c1",
   "metadata": {
    "execution": {
     "iopub.execute_input": "2025-09-09T00:44:41.766490Z",
     "iopub.status.busy": "2025-09-09T00:44:41.765560Z",
     "iopub.status.idle": "2025-09-09T00:44:42.176455Z",
     "shell.execute_reply": "2025-09-09T00:44:42.175628Z"
    },
    "papermill": {
     "duration": 0.416676,
     "end_time": "2025-09-09T00:44:42.177969",
     "exception": false,
     "start_time": "2025-09-09T00:44:41.761293",
     "status": "completed"
    },
    "tags": []
   },
   "outputs": [],
   "source": [
    "from sklearn.ensemble import RandomForestRegressor\n",
    "from sklearn.metrics import mean_absolute_error\n",
    "\n",
    "# Function for comparing different approaches\n",
    "def score_dataset(X_train, X_valid, y_train, y_valid):\n",
    "    model = RandomForestRegressor(n_estimators=100, random_state=0)\n",
    "    model.fit(X_train, y_train)\n",
    "    preds = model.predict(X_valid)\n",
    "    return mean_absolute_error(y_valid, preds)"
   ]
  },
  {
   "cell_type": "code",
   "execution_count": 7,
   "id": "49cda808",
   "metadata": {
    "execution": {
     "iopub.execute_input": "2025-09-09T00:44:42.187482Z",
     "iopub.status.busy": "2025-09-09T00:44:42.187185Z",
     "iopub.status.idle": "2025-09-09T00:44:42.207596Z",
     "shell.execute_reply": "2025-09-09T00:44:42.206815Z"
    },
    "papermill": {
     "duration": 0.027145,
     "end_time": "2025-09-09T00:44:42.209229",
     "exception": false,
     "start_time": "2025-09-09T00:44:42.182084",
     "status": "completed"
    },
    "tags": []
   },
   "outputs": [
    {
     "data": {
      "application/javascript": [
       "parent.postMessage({\"jupyterEvent\": \"custom.exercise_interaction\", \"data\": {\"outcomeType\": 1, \"valueTowardsCompletion\": 1.0, \"interactionType\": 1, \"questionType\": 2, \"questionId\": \"2_DropMissing\", \"learnToolsVersion\": \"0.3.5\", \"failureMessage\": \"\", \"exceptionClass\": \"\", \"trace\": \"\"}}, \"*\")"
      ],
      "text/plain": [
       "<IPython.core.display.Javascript object>"
      ]
     },
     "metadata": {},
     "output_type": "display_data"
    },
    {
     "data": {
      "text/markdown": [
       "<span style=\"color:#33cc33\">Correct</span>"
      ],
      "text/plain": [
       "Correct"
      ]
     },
     "metadata": {},
     "output_type": "display_data"
    }
   ],
   "source": [
    "#names of columns with missing values\n",
    "cols_with_missing= [col for col in X_train.columns\n",
    "                     if X_train[col].isnull().any()] # Your code here\n",
    "\n",
    "#drop columns in training and validation data\n",
    "reduced_X_train = X_train.drop(cols_with_missing, axis=1)\n",
    "reduced_X_valid = X_valid.drop(cols_with_missing, axis=1)\n",
    "\n",
    "# Check your answers\n",
    "step_2.check()"
   ]
  },
  {
   "cell_type": "code",
   "execution_count": 8,
   "id": "f33961a1",
   "metadata": {
    "execution": {
     "iopub.execute_input": "2025-09-09T00:44:42.218481Z",
     "iopub.status.busy": "2025-09-09T00:44:42.218155Z",
     "iopub.status.idle": "2025-09-09T00:44:43.483391Z",
     "shell.execute_reply": "2025-09-09T00:44:43.482262Z"
    },
    "papermill": {
     "duration": 1.27177,
     "end_time": "2025-09-09T00:44:43.485071",
     "exception": false,
     "start_time": "2025-09-09T00:44:42.213301",
     "status": "completed"
    },
    "tags": []
   },
   "outputs": [
    {
     "name": "stdout",
     "output_type": "stream",
     "text": [
      "MAE (Drop columns with missing values):\n",
      "17837.82570776256\n"
     ]
    }
   ],
   "source": [
    "print(\"MAE (Drop columns with missing values):\")\n",
    "print(score_dataset(reduced_X_train, reduced_X_valid, y_train, y_valid))"
   ]
  },
  {
   "cell_type": "code",
   "execution_count": 9,
   "id": "1437cda0",
   "metadata": {
    "execution": {
     "iopub.execute_input": "2025-09-09T00:44:43.495054Z",
     "iopub.status.busy": "2025-09-09T00:44:43.494613Z",
     "iopub.status.idle": "2025-09-09T00:44:43.519312Z",
     "shell.execute_reply": "2025-09-09T00:44:43.518332Z"
    },
    "papermill": {
     "duration": 0.031884,
     "end_time": "2025-09-09T00:44:43.521149",
     "exception": false,
     "start_time": "2025-09-09T00:44:43.489265",
     "status": "completed"
    },
    "tags": []
   },
   "outputs": [],
   "source": [
    "from sklearn.impute import SimpleImputer\n",
    "\n",
    "# imputation\n",
    "my_imputer = SimpleImputer() \n",
    "imputed_X_train = pd.DataFrame(my_imputer.fit_transform(X_train))\n",
    "imputed_X_valid = pd.DataFrame(my_imputer.transform(X_valid))\n",
    "\n",
    "# imputation removed column names; put them back\n",
    "imputed_X_train.columns = X_train.columns\n",
    "imputed_X_valid.columns = X_valid.columns\n"
   ]
  },
  {
   "cell_type": "code",
   "execution_count": 10,
   "id": "468b8125",
   "metadata": {
    "execution": {
     "iopub.execute_input": "2025-09-09T00:44:43.530054Z",
     "iopub.status.busy": "2025-09-09T00:44:43.529744Z",
     "iopub.status.idle": "2025-09-09T00:44:44.829671Z",
     "shell.execute_reply": "2025-09-09T00:44:44.828820Z"
    },
    "papermill": {
     "duration": 1.305987,
     "end_time": "2025-09-09T00:44:44.831056",
     "exception": false,
     "start_time": "2025-09-09T00:44:43.525069",
     "status": "completed"
    },
    "tags": []
   },
   "outputs": [
    {
     "name": "stdout",
     "output_type": "stream",
     "text": [
      "MAE (Imputation):\n",
      "18062.894611872147\n"
     ]
    }
   ],
   "source": [
    "print(\"MAE (Imputation):\")\n",
    "print(score_dataset(imputed_X_train, imputed_X_valid, y_train, y_valid))"
   ]
  },
  {
   "cell_type": "code",
   "execution_count": 11,
   "id": "fe47085a",
   "metadata": {
    "execution": {
     "iopub.execute_input": "2025-09-09T00:44:44.841182Z",
     "iopub.status.busy": "2025-09-09T00:44:44.840847Z",
     "iopub.status.idle": "2025-09-09T00:44:44.845584Z",
     "shell.execute_reply": "2025-09-09T00:44:44.844832Z"
    },
    "papermill": {
     "duration": 0.011011,
     "end_time": "2025-09-09T00:44:44.847037",
     "exception": false,
     "start_time": "2025-09-09T00:44:44.836026",
     "status": "completed"
    },
    "tags": []
   },
   "outputs": [],
   "source": [
    "# Preprocessed training and validation features\n",
    "final_X_train = imputed_X_train\n",
    "final_X_valid = imputed_X_valid\n",
    "\n",
    "final_X_train.columns = X_train.columns\n",
    "final_X_valid.columns = X_valid.columns"
   ]
  },
  {
   "cell_type": "code",
   "execution_count": 12,
   "id": "f9df82a4",
   "metadata": {
    "execution": {
     "iopub.execute_input": "2025-09-09T00:44:44.856430Z",
     "iopub.status.busy": "2025-09-09T00:44:44.856126Z",
     "iopub.status.idle": "2025-09-09T00:45:41.869034Z",
     "shell.execute_reply": "2025-09-09T00:45:41.867957Z"
    },
    "papermill": {
     "duration": 57.01946,
     "end_time": "2025-09-09T00:45:41.870490",
     "exception": false,
     "start_time": "2025-09-09T00:44:44.851030",
     "status": "completed"
    },
    "tags": []
   },
   "outputs": [
    {
     "name": "stdout",
     "output_type": "stream",
     "text": [
      "Model 1 MAE: 17999\n",
      "Model 2 MAE: 17691\n",
      "Model 3 MAE: 17701\n",
      "Model 4 MAE: 17613\n",
      "Model 5 MAE: 17658\n",
      "Model 6 MAE: 17606\n",
      "Model 7 MAE: 17628\n",
      "Model 8 MAE: 17610\n"
     ]
    }
   ],
   "source": [
    "# Define and fit model\n",
    "\n",
    "model_1 = RandomForestRegressor(n_estimators=50, random_state=0) # trying different max leaf nodes to find best model\n",
    "model_2 = RandomForestRegressor(n_estimators=150, random_state=0)\n",
    "model_3 = RandomForestRegressor(n_estimators=190, random_state=0)\n",
    "model_4 = RandomForestRegressor(n_estimators=250, random_state=0)\n",
    "model_5 = RandomForestRegressor(n_estimators=500, random_state=0)\n",
    "model_6 = RandomForestRegressor(n_estimators=1000, random_state=0)\n",
    "model_7 = RandomForestRegressor(n_estimators=1150, random_state=0)\n",
    "model_8 = RandomForestRegressor(n_estimators=1100, random_state=0)\n",
    "\n",
    "\n",
    "models = [model_1, model_2,model_3, model_4, model_5, model_6, model_7,model_8]\n",
    "\n",
    "def score_model(model, X_t=final_X_train, X_v=final_X_valid, y_t=y_train, y_v=y_valid):\n",
    "    model.fit(X_t, y_t)\n",
    "    preds = model.predict(X_v)\n",
    "    return mean_absolute_error(y_v, preds)\n",
    "\n",
    "for i in range(0, len(models)):\n",
    "    mae = score_model(models[i])\n",
    "    print(\"Model %d MAE: %d\" % (i+1, mae))\n"
   ]
  },
  {
   "cell_type": "code",
   "execution_count": 13,
   "id": "af8d4a80",
   "metadata": {
    "execution": {
     "iopub.execute_input": "2025-09-09T00:45:41.880397Z",
     "iopub.status.busy": "2025-09-09T00:45:41.880125Z",
     "iopub.status.idle": "2025-09-09T00:45:54.740727Z",
     "shell.execute_reply": "2025-09-09T00:45:54.739518Z"
    },
    "papermill": {
     "duration": 12.867339,
     "end_time": "2025-09-09T00:45:54.742300",
     "exception": false,
     "start_time": "2025-09-09T00:45:41.874961",
     "status": "completed"
    },
    "tags": []
   },
   "outputs": [
    {
     "name": "stdout",
     "output_type": "stream",
     "text": [
      "MAE (my approach):\n",
      "17606.36267514677\n"
     ]
    }
   ],
   "source": [
    "model = model_6\n",
    "model.fit(final_X_train, y_train)\n",
    "\n",
    "# Get validation predictions and MAE\n",
    "preds_valid = model.predict(final_X_valid)\n",
    "print(\"MAE (my approach):\")\n",
    "print(mean_absolute_error(y_valid, preds_valid))"
   ]
  },
  {
   "cell_type": "code",
   "execution_count": 14,
   "id": "7a3dd77f",
   "metadata": {
    "execution": {
     "iopub.execute_input": "2025-09-09T00:45:54.752852Z",
     "iopub.status.busy": "2025-09-09T00:45:54.751989Z",
     "iopub.status.idle": "2025-09-09T00:45:54.980422Z",
     "shell.execute_reply": "2025-09-09T00:45:54.979447Z"
    },
    "papermill": {
     "duration": 0.235412,
     "end_time": "2025-09-09T00:45:54.982120",
     "exception": false,
     "start_time": "2025-09-09T00:45:54.746708",
     "status": "completed"
    },
    "tags": []
   },
   "outputs": [],
   "source": [
    "#preprocess test data\n",
    "final_my_imputer = SimpleImputer() # Your code here\n",
    "imputed_X_test = pd.DataFrame(final_my_imputer.fit_transform(X_test))\n",
    "\n",
    "#imputation removed column names; put them back\n",
    "imputed_X_test.columns = X_test.columns\n",
    "\n",
    "final_X_test = imputed_X_test\n",
    "\n",
    "#get test predictions\n",
    "preds_test = model.predict(final_X_test)\n"
   ]
  },
  {
   "cell_type": "code",
   "execution_count": 15,
   "id": "413551b4",
   "metadata": {
    "execution": {
     "iopub.execute_input": "2025-09-09T00:45:54.992085Z",
     "iopub.status.busy": "2025-09-09T00:45:54.991677Z",
     "iopub.status.idle": "2025-09-09T00:45:55.005530Z",
     "shell.execute_reply": "2025-09-09T00:45:55.004593Z"
    },
    "papermill": {
     "duration": 0.020679,
     "end_time": "2025-09-09T00:45:55.007165",
     "exception": false,
     "start_time": "2025-09-09T00:45:54.986486",
     "status": "completed"
    },
    "tags": []
   },
   "outputs": [],
   "source": [
    "# Save test predictions to file\n",
    "output = pd.DataFrame({'Id': X_test.index,\n",
    "                       'SalePrice': preds_test})\n",
    "output.to_csv('submission.csv', index=False)"
   ]
  }
 ],
 "metadata": {
  "kaggle": {
   "accelerator": "none",
   "dataSources": [
    {
     "databundleVersionId": 111096,
     "sourceId": 10211,
     "sourceType": "competition"
    }
   ],
   "isGpuEnabled": false,
   "isInternetEnabled": false,
   "language": "python",
   "sourceType": "notebook"
  },
  "kernelspec": {
   "display_name": "Python 3",
   "language": "python",
   "name": "python3"
  },
  "language_info": {
   "codemirror_mode": {
    "name": "ipython",
    "version": 3
   },
   "file_extension": ".py",
   "mimetype": "text/x-python",
   "name": "python",
   "nbconvert_exporter": "python",
   "pygments_lexer": "ipython3",
   "version": "3.11.13"
  },
  "papermill": {
   "default_parameters": {},
   "duration": 83.312114,
   "end_time": "2025-09-09T00:45:55.731730",
   "environment_variables": {},
   "exception": null,
   "input_path": "__notebook__.ipynb",
   "output_path": "__notebook__.ipynb",
   "parameters": {},
   "start_time": "2025-09-09T00:44:32.419616",
   "version": "2.6.0"
  }
 },
 "nbformat": 4,
 "nbformat_minor": 5
}
